{
 "cells": [
  {
   "cell_type": "markdown",
   "metadata": {},
   "source": [
    "<img src=\"./images/Logo1.png\" alt=\"Note: In order for images to show up in this jupyter notebook you need to select File => Trusted Notebook\" width=\"700 px\" align=\"center\">\n",
    "\n",
    "# 第五章 IBM Qで量子プログラムを実行する\n",
    "\n",
    "## 本章の内容\n",
    "\n",
    "[全体目次](./Contents.ipynb)\n",
    "\n",
    "1. [Qiskitで量子プログラムを設計する](#1.-Qiskitで量子プログラムを設計する)\n",
    "    1. [量子回路を定義する](#1-A.-量子回路を定義する)\n",
    "    2. [Aerで量子計算をシミュレーションする](#1-B.-Aerで量子計算をシミュレーションする)\n",
    "2. [IBM Qで実行する](#2.-IBM-Qで実行する)\n",
    "    1. [量子コンピュータ情報を取得する](#2-A.-量子コンピュータ情報を取得する)\n",
    "    2. [ジョブを送信する](#2-B.-ジョブを送信する)\n",
    "    3. [ノイズシミュレーション](#2-C.-ノイズシミュレーション)\n",
    "\n",
    "このノートブックでは、実際にIBM Qを使って量子プログラムを実行してみます。 $\\newcommand{\\ket}[1]{\\left|{#1}\\right\\rangle}\n",
    "\\newcommand{\\bra}[1]{\\left\\langle{#1}\\right|}\n",
    "\\newcommand{\\braket}[2]{\\left\\langle{#1}\\middle|{#2}\\right\\rangle}$"
   ]
  },
  {
   "cell_type": "code",
   "execution_count": null,
   "metadata": {},
   "outputs": [],
   "source": [
    "%matplotlib inline\n",
    "%config InlineBackend.figure_formats = {'png', 'retina'}"
   ]
  },
  {
   "cell_type": "markdown",
   "metadata": {},
   "source": [
    "## 1. Qiskitで量子プログラムを設計する\n",
    "\n",
    "Qiskitは、大きく4つの要素から構成されています。\n",
    "\n",
    "- Qiskit Terra\n",
    "- Qiskit Aer\n",
    "- Qiskit Ignis\n",
    "- Qiskit Aqua\n",
    "\n",
    "**Qiskit Terra**は、量子プログラムの基礎となる要素です。量子プログラムを回路とパルスのレベルに構成し、デバイスの制約に合わせて最適化し、リモートでのバッチ実行の管理などを行います。\n",
    "\n",
    "**Qiskit Aer**は、古典的プロセッサを用いた量子計算のシミュレーションを行います。Aerを使用することで、量子コンピュータが正しく機能していることを確認できます。\n",
    "\n",
    "**Qiskit Ignis**は、量子誤り訂正符号といった、ノイズとエラーに関する計算機能が含まれます。\n",
    "\n",
    "**Qiskit Aqua**は、NISQコンピュータ用のアルゴリズムが構築されている場所です。\n",
    "\n",
    "今回は、TerraとAerの機能、そしてIBM Qを用いていきます。"
   ]
  },
  {
   "cell_type": "markdown",
   "metadata": {},
   "source": [
    "### 1-A. 量子回路を定義する\n",
    "\n",
    "実際にQiskitで量子回路を定義していきます。まず、3つの量子ビットからなる空の量子回路を定義します。"
   ]
  },
  {
   "cell_type": "code",
   "execution_count": null,
   "metadata": {},
   "outputs": [],
   "source": [
    "from qiskit import QuantumCircuit, QuantumRegister\n",
    "\n",
    "q = QuantumRegister(3, 'q')\n",
    "q_circ = QuantumCircuit(q)"
   ]
  },
  {
   "cell_type": "markdown",
   "metadata": {},
   "source": [
    "この量子回路に、ゲートを追加していきます。試しに、アダマールゲートと2つのCNOTゲートからなるゲート計算を追加します。`draw`メソッドを用いることで回路図を描画することができます。"
   ]
  },
  {
   "cell_type": "code",
   "execution_count": null,
   "metadata": {},
   "outputs": [],
   "source": [
    "q_circ.h(q[0])\n",
    "q_circ.cx(q[0], q[1])\n",
    "q_circ.cx(q[0], q[2])\n",
    "q_circ.draw(output='mpl')"
   ]
  },
  {
   "cell_type": "markdown",
   "metadata": {},
   "source": [
    "見ての通り初期の量子ビットの状態は$\\ket{0}$です。\n",
    "\n",
    "次に、この量子ビットを観測するために、古典ビットを追加し、観測を定義します。古典ビットの初期値は$0$です。"
   ]
  },
  {
   "cell_type": "code",
   "execution_count": null,
   "metadata": {},
   "outputs": [],
   "source": [
    "from qiskit import ClassicalRegister\n",
    "\n",
    "c = ClassicalRegister(3, 'c')\n",
    "\n",
    "m_circ = QuantumCircuit(q, c)\n",
    "m_circ.barrier(q) # 最適化によるゲートの並び替えを防ぐためにバリアを設定します\n",
    "m_circ.measure(q,c)\n",
    "\n",
    "circ = q_circ + m_circ\n",
    "circ.draw(output='mpl')"
   ]
  },
  {
   "cell_type": "markdown",
   "metadata": {},
   "source": [
    "これで量子回路の設計は完了です。とても簡単ですね！"
   ]
  },
  {
   "cell_type": "markdown",
   "metadata": {},
   "source": [
    "### 1-B. Aerで量子計算をシミュレーションする\n",
    "\n",
    "いきなり実機で実行する前に、回路の動作を計算して、シミュレータで確認してみましょう。\n",
    "\n",
    "アダマールゲートにより$q_0$は50%の確率で$0$か$1$が観測されるでしょう（CNOTゲートではコントロールビットは変化しません）。そして、CNOTは$q_0$の状態に応じてビットが反転します。よって、$q_0$が$0$なら$q_1,q_2$も$0$、$q_0$が$1$なら$q_1,q_2$も$1$になるはずです。"
   ]
  },
  {
   "cell_type": "code",
   "execution_count": null,
   "metadata": {},
   "outputs": [],
   "source": [
    "from qiskit import execute, Aer\n",
    "from qiskit.tools.visualization import plot_histogram\n",
    "\n",
    "backend_aer = Aer.get_backend('qasm_simulator')\n",
    "job_aer     = execute(circ, backend_aer, shots=1024) # shotsは、反復実行する回数\n",
    "result_aer  = job_aer.result()\n",
    "counts_aer  = result_aer.get_counts(circ)\n",
    "\n",
    "plot_histogram([counts_aer])"
   ]
  },
  {
   "cell_type": "markdown",
   "metadata": {},
   "source": [
    "実行するたびに結果は異なりますが、おそらく約50%ずつの確率で`000` か`111`が観測される結果となったはずです。"
   ]
  },
  {
   "cell_type": "markdown",
   "metadata": {},
   "source": [
    "## 2. IBM Qで実行する\n",
    "\n",
    "では、この回路をIBM Qで実行しましょう。まずIBM Qアカウントを読み込みます。"
   ]
  },
  {
   "cell_type": "code",
   "execution_count": null,
   "metadata": {},
   "outputs": [],
   "source": [
    "from qiskit import IBMQ\n",
    "IBMQ.load_accounts()"
   ]
  },
  {
   "cell_type": "markdown",
   "metadata": {},
   "source": [
    "### 2-A. 量子コンピュータ情報を取得する\n",
    "\n",
    "無料で利用可能なIBM Qデバイスはいくつかあるので、確認してみましょう。"
   ]
  },
  {
   "cell_type": "code",
   "execution_count": null,
   "metadata": {},
   "outputs": [],
   "source": [
    "for device in IBMQ.backends():\n",
    "    conf = device.configuration()\n",
    "    print(f'[{device}]\\n- n_qubits  : {conf.n_qubits}\\n- simulator : {conf.simulator}\\n')"
   ]
  },
  {
   "cell_type": "code",
   "execution_count": null,
   "metadata": {},
   "outputs": [],
   "source": [
    "from qiskit.tools.jupyter import *\n",
    "%qiskit_backend_overview"
   ]
  },
  {
   "cell_type": "markdown",
   "metadata": {},
   "source": [
    "必要な量子ビット数、混み具合やメンテナンスなどで最適なデバイスは異なります。`least_busy`で空いているバックエンドを選択できるので、使うバックエンドを取得しましょう。"
   ]
  },
  {
   "cell_type": "code",
   "execution_count": null,
   "metadata": {},
   "outputs": [],
   "source": [
    "from qiskit.providers.ibmq import least_busy\n",
    "\n",
    "def filter_device(dev):\n",
    "    \"\"\" 4-qubits以上の実機のみに絞ります \"\"\"\n",
    "    conf = dev.configuration()\n",
    "    return conf.n_qubits > 4 and not conf.simulator\n",
    "\n",
    "ibmq_devices = IBMQ.backends(filters=filter_device)\n",
    "backend_ibmq = least_busy(ibmq_devices)\n",
    "print(f'The best backend is \"{backend_ibmq.name()}\"')"
   ]
  },
  {
   "cell_type": "code",
   "execution_count": null,
   "metadata": {},
   "outputs": [],
   "source": [
    "%qiskit_backend_monitor backend_ibmq"
   ]
  },
  {
   "cell_type": "markdown",
   "metadata": {},
   "source": [
    "### 2-B. ジョブを送信する\n",
    "\n",
    "選ばれたバックエンドで回路を実行してみましょう！シミュレータと異なり、バッチ処理が完了するまでジョブを待つ必要があります。空いているときはすぐに終わりますが、混雑しているときは時間がかかる場合があります。"
   ]
  },
  {
   "cell_type": "code",
   "execution_count": null,
   "metadata": {},
   "outputs": [],
   "source": [
    "job = execute(circ,\n",
    "              backend     = backend_ibmq,\n",
    "              shots       = 1024,\n",
    "              max_credits = 3)"
   ]
  },
  {
   "cell_type": "markdown",
   "metadata": {},
   "source": [
    "ジョブのIDを控えておきましょう。もしノートブックがダウンしてしまったり、誤ってジョブ変数を上書きしたときなど、あとからジョブを再取得するために必要になります。"
   ]
  },
  {
   "cell_type": "code",
   "execution_count": null,
   "metadata": {},
   "outputs": [],
   "source": [
    "job.job_id()"
   ]
  },
  {
   "cell_type": "markdown",
   "metadata": {},
   "source": [
    "もし再取得するときは以下のようにします。\n",
    "\n",
    "```python\n",
    "job = backend_ibmq.retrieve_job('ジョブのID')\n",
    "```"
   ]
  },
  {
   "cell_type": "markdown",
   "metadata": {},
   "source": [
    "ジョブの状態は`job_moniter`で確認できます。"
   ]
  },
  {
   "cell_type": "code",
   "execution_count": null,
   "metadata": {},
   "outputs": [],
   "source": [
    "from qiskit.tools.monitor import job_monitor\n",
    "\n",
    "job_monitor(job, monitor_async=True)"
   ]
  },
  {
   "cell_type": "markdown",
   "metadata": {},
   "source": [
    "### 2-C. ノイズシミュレーション\n",
    "\n",
    "おそらく少し時間がかかるので、その間に、古典的コンピュータでノイズありのシミュレーションをしてみましょう。先程決定したIBM Qデバイスバックエンドからノイズ等の情報を取得し、ノイズをシミュレーションしてみます。"
   ]
  },
  {
   "cell_type": "code",
   "execution_count": null,
   "metadata": {},
   "outputs": [],
   "source": [
    "from qiskit.providers.aer import noise\n",
    "\n",
    "properties   = backend_ibmq.properties()\n",
    "coupling_map = backend_ibmq.configuration().coupling_map\n",
    "noise_model  = noise.device.basic_device_noise_model(properties)\n",
    "basis_gates  = noise_model.basis_gates\n",
    "\n",
    "job_aer_noisy = execute(circ,\n",
    "                        backend      = backend_aer,\n",
    "                        shots        = 1024,\n",
    "                        coupling_map = coupling_map,\n",
    "                        noise_model  = noise_model,\n",
    "                        basis_gates  = noise_model.basis_gates)\n",
    "result_aer_noisy = job_aer_noisy.result()\n",
    "counts_aer_noisy = result_aer_noisy.get_counts(circ)\n",
    "\n",
    "plot_histogram(\n",
    "    [counts_aer, counts_aer_noisy],\n",
    "    legend=['Aer',f'Aer ({backend_ibmq.name()} Noise Model)'])"
   ]
  },
  {
   "cell_type": "markdown",
   "metadata": {},
   "source": [
    "では、ジョブの実行完了を待機し、結果をシミュレーション結果と合わせて確認してみましょう。"
   ]
  },
  {
   "cell_type": "code",
   "execution_count": null,
   "metadata": {},
   "outputs": [],
   "source": [
    "from qiskit.tools.monitor import job_monitor\n",
    "\n",
    "job_monitor(job)\n",
    "result = job.result()\n",
    "counts = result.get_counts()\n",
    "\n",
    "plot_histogram(\n",
    "    [counts_aer, counts_aer_noisy, counts],\n",
    "    legend=['Aer',f'Aer ({backend_ibmq.name()} Noise Model)',f'IBM Q ({backend_ibmq.name()})'])"
   ]
  },
  {
   "cell_type": "markdown",
   "metadata": {},
   "source": [
    "　\n",
    "### 　　　　　　　　[前の章へ](./4_measurement.ipynb)　[全体目次](./Contents.ipynb)　 [次の章へ](./6_ibm_q.ipynb)"
   ]
  }
 ],
 "metadata": {
  "kernelspec": {
   "display_name": "Python 3",
   "language": "python",
   "name": "python3"
  },
  "language_info": {
   "codemirror_mode": {
    "name": "ipython",
    "version": 3
   },
   "file_extension": ".py",
   "mimetype": "text/x-python",
   "name": "python",
   "nbconvert_exporter": "python",
   "pygments_lexer": "ipython3",
   "version": "3.6.7"
  }
 },
 "nbformat": 4,
 "nbformat_minor": 4
}
