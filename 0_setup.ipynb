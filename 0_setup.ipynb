{
 "cells": [
  {
   "cell_type": "markdown",
   "metadata": {},
   "source": [
    "# ハンズオン資料のインストール"
   ]
  },
  {
   "cell_type": "markdown",
   "metadata": {},
   "source": [
    "1. 下のセルを実行します。\n",
    "2. ブラウザをリロードします。\n",
    "3. 画面左のツールバーの、下から二番目のアイコンを選択し、`1_basic.ipynb`~`7_teleportation.ipynb`のファイルがあることを確認します。"
   ]
  },
  {
   "cell_type": "code",
   "execution_count": null,
   "metadata": {},
   "outputs": [],
   "source": [
    "%%bash\n",
    "URL=https://github.com/maru-labo/ibm-q-handson/archive/master.tar.gz\n",
    "wget $URL -qO- | tar zxvf -\n",
    "cp -rf ibm-q-handson-master/* ~"
   ]
  },
  {
   "cell_type": "markdown",
   "metadata": {},
   "source": [
    "上記セルを実行すると、IBM Q Experience上のホームディレクトリに展開されます。こちらは消えることはありませんのんで、イベント後日も利用可能です。ただし、ホーム上のノートブックは内部のリンク（「次の章」など）が使用不可能なため、ご注意ください。\n",
    "\n",
    "下記セルを実行すると一時的にチュートリアルに`marulabo-handson`が追加され、リンクが使用なノートブックが利用できます。ただし、こちらは後日消える可能性があります。その場合はまた再度実行することでリンクが使用可能なチュートリアルが追加されます。"
   ]
  },
  {
   "cell_type": "code",
   "execution_count": null,
   "metadata": {},
   "outputs": [],
   "source": [
    "%%bash\n",
    "tmp=/tmp/qiskit-tutorials/qiskit/marulabo-handson/\n",
    "mkdir -p $tmp\n",
    "cp -rf ibm-q-handson-master/* $tmp"
   ]
  }
 ],
 "metadata": {
  "kernelspec": {
   "display_name": "Python 3",
   "language": "python",
   "name": "python3"
  },
  "language_info": {
   "codemirror_mode": {
    "name": "ipython",
    "version": 3
   },
   "file_extension": ".py",
   "mimetype": "text/x-python",
   "name": "python",
   "nbconvert_exporter": "python",
   "pygments_lexer": "ipython3",
   "version": "3.6.7"
  }
 },
 "nbformat": 4,
 "nbformat_minor": 4
}
