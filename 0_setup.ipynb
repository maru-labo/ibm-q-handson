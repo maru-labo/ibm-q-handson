{
 "cells": [
  {
   "cell_type": "markdown",
   "metadata": {},
   "source": [
    "# ハンズオン資料のインストール"
   ]
  },
  {
   "cell_type": "markdown",
   "metadata": {},
   "source": [
    "1. 上記セルを実行します。\n",
    "2. ブラウザをリロードします。\n",
    "3. 画面左のツールバーの、下から二番目のアイコンを選択し、`1_basic.ipynb`~`7_teleportation.ipynb`のファイルがあることを確認します。"
   ]
  },
  {
   "cell_type": "code",
   "execution_count": null,
   "metadata": {},
   "outputs": [],
   "source": [
    "%%bash\n",
    "URL=https://github.com/maru-labo/ibm-q-handson/archive/master.tar.gz\n",
    "wget $URL -qO- | tar zxvf -\n",
    "cp -rf ibm-q-handson-master/* ."
   ]
  }
 ],
 "metadata": {
  "kernelspec": {
   "display_name": "Python 3",
   "language": "python",
   "name": "python3"
  },
  "language_info": {
   "codemirror_mode": {
    "name": "ipython",
    "version": 3
   },
   "file_extension": ".py",
   "mimetype": "text/x-python",
   "name": "python",
   "nbconvert_exporter": "python",
   "pygments_lexer": "ipython3",
   "version": "3.6.7"
  }
 },
 "nbformat": 4,
 "nbformat_minor": 4
}
