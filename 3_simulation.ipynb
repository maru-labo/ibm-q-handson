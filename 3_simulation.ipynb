{
 "cells": [
  {
   "cell_type": "markdown",
   "metadata": {},
   "source": [
    "<img src=\"./images/Logo1.png\" alt=\"Note: In order for images to show up in this jupyter notebook you need to select File => Trusted Notebook\" width=\"700 px\" align=\"center\">"
   ]
  },
  {
   "cell_type": "markdown",
   "metadata": {},
   "source": [
    "# 第三章　構成された回路はどのような働きをするのか？\n",
    "<a id='chapter3'></a>\n",
    "\n",
    "**本章の内容**　　　　　[全体目次](./Contents.ipynb)\n",
    "-  [第三章　構成された回路はどのような働きをするのか？](#chapter3)\n",
    "  - [一つ一つのゲートはどのような働きをするのか？](#a1)\n",
    "  - [量子ゲートとユニタリ行列](#a2)\n",
    "  - [基本的な1-qubitゲートと対応するユニタリ行列](#a3)\n",
    "  - [演習問題 1](#a4)\n",
    "  - [ゲートの出力ベクトルを、ユニタリ行列と入力ベクトルの積として計算する](#a5)\n",
    "  - [代表的な1-qubitのゲート X, Z, H の働きのまとめ](#a6)\n",
    "  - [演習問題 2](#a7)\n",
    "\n",
    "- [ゲートはどのように組み合わされるのか？](#b1)\n",
    "  - [組み合わされたゲートは、どのような働きをするのか？](#b2)\n",
    "  - [Serialな構成の場合](#b3) \n",
    "  - [Parallelな構成の場合](#b4)\n",
    "  - [コントロールの構成の場合](#b5)\n",
    "\n",
    "- [数学的準備 2  -- 行列のテンソル積](#c1)\n",
    "  - [システムのテンソル積](#c2)\n",
    "  - [CNOTの入力と出力をテンソル積で表示する](#c3)\n",
    "  - [演習問題 3](#c4)\n",
    "\n",
    "- [構成した回路をシミュレートする](#d1)\n",
    "  - [回路の出力ベクトルをシミュレートする](#d2)\n",
    "  - [回路全体を一つのユニタリ行列で表す](#d3)\n"
   ]
  },
  {
   "cell_type": "markdown",
   "metadata": {},
   "source": [
    "\n",
    "先に構成した量子回路は、どのような働きをするのだろうか？　\n",
    "それを知る前に、一つ一つのゲートの働きを確認しておこう。\n",
    "\n",
    "\n",
    "## 一つ一つのゲートはどのような働きをするのか？<a id='a1'></a>\n",
    "\n",
    "\n",
    "個々の量子ゲートがどのような働きをするのか、その特徴をみておこう。\n",
    "\n",
    "- #### 量子ゲートは、入力のqubitたちを出力のqubitたちに変換する。それは、古典的なゲートが、古典ビットの入力を古典ビットの出力に変換するのと同じである。\n",
    "- #### 古典的なゲートは、基本的には、AND, OR, NOTといった「論理的」な演算で定義されるが、量子的なゲートは数学的には、「ユニタリ変換」として定義される。「ユニタリ変換」は、「ユニタリ行列」で定義される。\n",
    "- #### 「ユニタリ行列」は、入力のqubitの「入力ベクトル」を出力のqubitの「出力ベクトル」に変換する。\n",
    "- #### 一つの量子ゲートには、一つの「ユニタリ行列」が対応する。\n",
    "- #### 古典的なゲートとは異なって、量子ゲートでは入力のqubitの数と出力のqubitの数は等しい。"
   ]
  },
  {
   "cell_type": "markdown",
   "metadata": {},
   "source": [
    "## 量子ゲートとユニタリ行列 <a id='a2'></a>\n",
    "\n",
    "<img src=\"./images/simulation/unitary1.png\" alt=\"Note: In order for images to show up in this jupyter notebook you need to select File => Trusted Notebook\" width=\"550 px\" align=\"left\">\n",
    "\n",
    "\n",
    "<img src=\"./images/simulation/unitary2.png\" alt=\"Note: In order for images to show up in this jupyter notebook you need to select File => Trusted Notebook\" width=\"550 px\" align=\"left\">\n"
   ]
  },
  {
   "cell_type": "markdown",
   "metadata": {},
   "source": [
    "## 基本的な1-qubitゲートと対応するユニタリ行列 <a id='a3'></a>\n",
    "\n",
    "|ゲート名　|プログラム上の名前 |ゲートの記号|対応するユニタリ行列|\n",
    "|:--|:--:|:--:|:-|\n",
    "| Xゲート | 'x' |<img src=\"./images/circuit/X.jpg\"  width=\"100 px\" align=\"center\">|$$ \\begin{pmatrix} 0 & 1\\\\  1 & 0  \\\\\\end{pmatrix} $$ |\n",
    "|Yゲート | 'y' |<img src=\"./images/circuit/Y.png\"  width=\"100 px\" align=\"center\">|$$ \\begin{pmatrix} 0 & i\\\\  -i & 0 \\\\\\end{pmatrix} $$ |\n",
    "|Zゲート | 'z' |<img src=\"./images/circuit/Z.png\"  width=\"100 px\" align=\"center\">|$$ \\begin{pmatrix} 1 & 0\\\\  0 & -1 \\\\\\end{pmatrix} $$ |\n",
    "|Hゲート | 'h' |<img src=\"./images/circuit/H.png\"  width=\"100 px\" align=\"center\">|$$ \\frac{1}{\\sqrt{2} } \\begin{pmatrix} 1 & 1\\\\  1 & -1 \\\\\\end{pmatrix} $$ |\n",
    "|Sゲート|'s'|<img src=\"./images/circuit/S.png\"  width=\"100 px\" align=\"center\">|$$ \\begin{pmatrix} 1 & 0\\\\  0 & i \\\\\\end{pmatrix} $$ |\n",
    "|Tゲート|'t'|<img src=\"./images/circuit/T.png\"  width=\"100 px\" align=\"center\">|$$ \\begin{pmatrix} 1 & 0 \\\\ 0 & e^{i\\pi/4} \\\\\\end{pmatrix} $$ |"
   ]
  },
  {
   "cell_type": "markdown",
   "metadata": {},
   "source": [
    "## 演習問題 1　<a id='a4'></a>\n",
    "\n",
    "###  1.  行列$X$が$XX^\\dagger=I$を満たし、ユニタリ行列であることを確かめよ。\n",
    "###  2.  行列$Z$が$ZZ^\\dagger=I$を満たし、ユニタリ行列であることを確かめよ。\n",
    "###  3.  行列$H$が$HH^\\dagger=I$を満たし、ユニタリ行列であることを確かめよ。\n"
   ]
  },
  {
   "cell_type": "markdown",
   "metadata": {},
   "source": [
    "\n",
    "\n",
    "## ゲートの出力ベクトルを、ユニタリ行列と入力ベクトルの積として計算する <a id='a5'></a>\n",
    "\n",
    " **行列$X$と入力ベクトル$|0\\rangle$ の積を計算する**\n",
    " \n",
    " $$ X|0\\rangle = \\begin{pmatrix} 0 & 1\\\\  1 & 0  \\\\\\end{pmatrix} \\begin{pmatrix}  1\\\\  0  \\\\\\end{pmatrix}=\\begin{pmatrix} 0  \\\\  1   \\\\\\end{pmatrix}$$\n",
    " \n",
    " **行列$Z$と入力$|0\\rangle$ の積を計算する**\n",
    " \n",
    " $$ Z|0\\rangle = \\begin{pmatrix} 1 & 0\\\\  0 & -1  \\\\\\end{pmatrix} \\begin{pmatrix}  1\\\\  0  \\\\\\end{pmatrix}=\\begin{pmatrix} 1  \\\\  0   \\\\\\end{pmatrix}$$\n",
    "\n",
    " **行列$H$と入力$|0\\rangle$ の積を計算する**\n",
    "\n",
    "$$  H|0\\rangle = \\frac{1}{\\sqrt{2} } \\begin{pmatrix} 1 & 1\\\\  1 & -1 \\\\\\end{pmatrix} \\begin{pmatrix}  1\\\\  0  \\\\\\end{pmatrix}=\\frac{1}{\\sqrt{2} } \\begin{pmatrix} 1 \\\\  1   \\\\\\end{pmatrix}$$\n"
   ]
  },
  {
   "cell_type": "markdown",
   "metadata": {},
   "source": [
    "## 代表的な1-qubitのゲート X, Z, H の働きのまとめ\n",
    "### これらの三つのゲートの働きをしっかり覚えておくと、ずいぶんと回路の働きの計算が楽になる。 <a id='a6'></a>\n",
    "<img src=\"./images/circuit/XZH.png\"  width=\"550 px\" align=\"center\">"
   ]
  },
  {
   "cell_type": "markdown",
   "metadata": {},
   "source": [
    "## 演習問題 2　<a id='a7'></a>\n",
    "$|0\\rangleは\\begin{pmatrix}  1\\\\  0  \\\\\\end{pmatrix}, \n",
    "|1\\rangleは\\begin{pmatrix}  0\\\\  1  \\\\\\end{pmatrix}$ で表される。この時、\n",
    "\n",
    "###  1. 行列$X$と入力ベクトル$|1\\rangle$ の積を計算せよ\n",
    "###  2. 行列$Z$と入力ベクトル$|1\\rangle$ の積を計算せよ\n",
    "###  3. 行列$H$と入力ベクトル$|1\\rangle$ の積を計算せよ\n",
    "\n"
   ]
  },
  {
   "cell_type": "markdown",
   "metadata": {},
   "source": [
    "\n",
    "# ゲートはどのように組み合わされるのか？ <a id='b1'></a>\n",
    "\n",
    "## ゲートから回路を構成する方法は、基本的には、次の三つである。\n",
    "\n",
    " ### 1.  Serialな構成　あるゲートの出力を次のゲートの入力にserialに接続する\n",
    " ### 2.  Parallelな構成　あるゲートと別のゲートをparallelに構成する\n",
    " ### 3.  コントロールの構成 あるゲートの出力を、parallelに走る別のゲートのコントロールに使用する\n"
   ]
  },
  {
   "cell_type": "markdown",
   "metadata": {},
   "source": [
    "## 組み合わされたゲートは、どのような働きをするのか？ <a id='b2'></a>\n",
    "\n",
    " ### Serialな構成の場合<a id='b3'></a>  -- $行列としての積　 U_2 \\circ U_1$\n",
    " ユニタリ行列$U_1とU_2$でそれぞれ表現される二つのゲート$U_1とU_2$が、serialに結合された時、この結合されたゲートは、行列$U_1とU_2の 行列としての積  U_2 \\circ U_1$で表現される変換として作用する。\n",
    "<img src=\"./images/simulation/serial1.png\" alt=\"Note: In order for images to show up in this jupyter notebook you need to select File => Trusted Notebook\" width=\"450 px\" align=\"left\">"
   ]
  },
  {
   "cell_type": "markdown",
   "metadata": {},
   "source": [
    "\n",
    " ### Parallelな構成の場合 <a id='b4'></a>-- $行列としてのテンソル積　　U_1 \\otimes U_2$\n",
    " \n",
    " ユニタリ行列$U_1とU_2$でそれぞれ表現される二つのゲート$U_1とU_2$が、parallelに結合された時、この結合されたゲートは、行列$U_1とU_2$の行列としてのテンソル積 $U_1 \\otimes U_2$で表現される変換として作用する。\n",
    "<img src=\"./images/simulation/parallel1.png\" alt=\"Note: In order for images to show up in this jupyter notebook you need to select File => Trusted Notebook\" width=\"450 px\" align=\"left\">"
   ]
  },
  {
   "cell_type": "markdown",
   "metadata": {},
   "source": [
    "\n",
    " ### コントロールの構成の場合 <a id='b5'></a>-- $コントロール - Uゲート$\n",
    " \n",
    "  <img src=\"./images/simulation/cnot1.png\" alt=\"Note: In order for images to show up in this jupyter notebook you need to select File => Trusted Notebook\" width=\"450 px\" align=\"left\">\n",
    " <img src=\"./images/simulation/control1.png\" alt=\"Note: In order for images to show up in this jupyter notebook you need to select File => Trusted Notebook\" width=\"450 px\" align=\"left\">"
   ]
  },
  {
   "cell_type": "markdown",
   "metadata": {},
   "source": [
    "# 数学的準備 2  -- 行列のテンソル積 <a id='c1'></a>\n",
    "\n",
    "<img src=\"./images/simulation/math/tensor1.png\" alt=\"Note: In order for images to show up in this jupyter notebook you need to select File => Trusted Notebook\" width=\"450 px\" align=\"left\">\n",
    " <img src=\"./images/simulation/math/tensor2.png\" alt=\"Note: In order for images to show up in this jupyter notebook you need to select File => Trusted Notebook\" width=\"450 px\" align=\"left\">\n",
    "<img src=\"./images/simulation/math/tensor3.png\" alt=\"Note: In order for images to show up in this jupyter notebook you need to select File => Trusted Notebook\" width=\"450 px\" align=\"left\">\n",
    "<img src=\"./images/simulation/math/tensor4.png\" alt=\"Note: In order for images to show up in this jupyter notebook you need to select File => Trusted Notebook\" width=\"450 px\" align=\"left\">\n",
    "<img src=\"./images/simulation/math/tensor5.png\" alt=\"Note: In order for images to show up in this jupyter notebook you need to select File => Trusted Notebook\" width=\"450 px\" align=\"left\">\n",
    "<img src=\"./images/simulation/math/tensor6.png\" alt=\"Note: In order for images to show up in this jupyter notebook you need to select File => Trusted Notebook\" width=\"450 px\" align=\"left\">\n"
   ]
  },
  {
   "cell_type": "markdown",
   "metadata": {},
   "source": [
    "\n",
    "## システムのテンソル積 <a id='c2'></a>\n",
    "\n",
    "独立した二つのシステムを一つのシステムと考える時、テンソル積で考える。\n",
    "\n",
    " <img src=\"./images/simulation/tensor1.png\" alt=\"Note: In order for images to show up in this jupyter notebook you need to select File => Trusted Notebook\" width=\"450 px\" align=\"left\">\n",
    "  <img src=\"./images/simulation/tensor2.png\" alt=\"Note: In order for images to show up in this jupyter notebook you need to select File => Trusted Notebook\" width=\"450 px\" align=\"left\">\n",
    "  <img src=\"./images/simulation/tensor3.png\" alt=\"Note: In order for images to show up in this jupyter notebook you need to select File => Trusted Notebook\" width=\"450 px\" align=\"left\">  \n",
    "   <img src=\"./images/simulation/tensor4.png\" alt=\"Note: In order for images to show up in this jupyter notebook you need to select File => Trusted Notebook\" width=\"450 px\" align=\"left\">    <img src=\"./images/simulation/tensor5.png\" alt=\"Note: In order for images to show up in this jupyter notebook you need to select File => Trusted Notebook\" width=\"450 px\" align=\"left\">    <img src=\"./images/simulation/tensor6.png\" alt=\"Note: In order for images to show up in this jupyter notebook you need to select File => Trusted Notebook\" width=\"450 px\" align=\"left\">    <img src=\"./images/simulation/tensor7.png\" alt=\"Note: In order for images to show up in this jupyter notebook you need to select File => Trusted Notebook\" width=\"450 px\" align=\"left\">    <img src=\"./images/simulation/tensor8.png\" alt=\"Note: In order for images to show up in this jupyter notebook you need to select File => Trusted Notebook\" width=\"450 px\" align=\"left\">  "
   ]
  },
  {
   "cell_type": "markdown",
   "metadata": {},
   "source": [
    "\n",
    "## CNOTの入力と出力をテンソル積で表示する <a id='c3'></a>\n",
    "\n",
    " <img src=\"./images/simulation/cnot2.png\" alt=\"Note: In order for images to show up in this jupyter notebook you need to select File => Trusted Notebook\" width=\"450 px\" align=\"left\">\n",
    " <img src=\"./images/simulation/cnot3.png\" alt=\"Note: In order for images to show up in this jupyter notebook you need to select File => Trusted Notebook\" width=\"450 px\" align=\"left\">\n"
   ]
  },
  {
   "cell_type": "markdown",
   "metadata": {},
   "source": [
    "## 演習問題 3　<a id='c4'></a>\n",
    "\n",
    "### 1. 第一のQubitが、$3/5|0\\rangle+4/5|1\\rangle $で、第二のQubitが、$1/√2|0\\rangle−1/√2|0\\rangle$としよう。この時、二つのqubit が結合した状態を計算せよ。\n",
    "### 2. $|0\\rangleは\\begin{pmatrix}  1\\\\  0  \\\\\\end{pmatrix}$、 $|1\\rangleは\\begin{pmatrix}  0\\\\  1  \\\\\\end{pmatrix}$ で表される。この時、\n",
    "- $|00\\rangle = |0\\rangle \\otimes |0\\rangle $を計算せよ\n",
    "- $|01\\rangle = |0\\rangle \\otimes |1\\rangle $を計算せよ\n",
    "- $|10\\rangle = |1\\rangle \\otimes |0\\rangle $を計算せよ\n",
    "- $|11\\rangle = |1\\rangle \\otimes |1\\rangle $を計算せよ \n",
    "　\n",
    "- $|010\\rangle = |0\\rangle \\otimes |1\\rangle  \\otimes |0\\rangle$を計算せよ\n",
    "- $|011\\rangle = |0\\rangle \\otimes |1\\rangle  \\otimes |1\\rangle$を計算せよ\n",
    "- $|100\\rangle = |1\\rangle \\otimes |0\\rangle  \\otimes |0\\rangle$を計算せよ\n",
    "- $|101\\rangle = |1\\rangle \\otimes |0\\rangle  \\otimes |1\\rangle$を計算せよ\n",
    "\n",
    "### 3. $H=\\frac{1}{\\sqrt{2} } \\begin{pmatrix} 1 & 1\\\\  1 & -1  \\\\\\end{pmatrix} $とする時、$H \\otimes H$を求めよ\n"
   ]
  },
  {
   "cell_type": "markdown",
   "metadata": {},
   "source": [
    "\n",
    "\n",
    "# 構成した回路をシミュレートする <a id='d1'></a>\n"
   ]
  },
  {
   "cell_type": "markdown",
   "metadata": {},
   "source": [
    "## Qiskit Aer を使って回路をシミュレートする <a id='aer_simulation'></a>\n",
    "\n",
    "Qiskit Aer は量子回路をシミュレートするパッケージである。それは、シミュレーションを実行するための多くの異なったバックエンドを提供する。ここでは、基本的なPythonバージョンを使う\n"
   ]
  },
  {
   "cell_type": "markdown",
   "metadata": {},
   "source": [
    "**コードのインポート**"
   ]
  },
  {
   "cell_type": "code",
   "execution_count": null,
   "metadata": {},
   "outputs": [],
   "source": [
    "%matplotlib inline\n",
    "%config InlineBackend.figure_formats = {'png', 'retina'}\n",
    "\n",
    "import numpy as np\n",
    "from qiskit import QuantumCircuit, ClassicalRegister, QuantumRegister\n",
    "from qiskit import execute\n",
    "\n",
    "# Import Aer\n",
    "from qiskit import BasicAer"
   ]
  },
  {
   "cell_type": "markdown",
   "metadata": {},
   "source": [
    "## 回路の出力ベクトルをシミュレートする <a id='d2'></a>"
   ]
  },
  {
   "cell_type": "markdown",
   "metadata": {},
   "source": [
    "\n",
    "### 量子ゲート $H$ 一つからなる回路の出力ベクトルをシミュレートする\n"
   ]
  },
  {
   "cell_type": "code",
   "execution_count": null,
   "metadata": {
    "ExecuteTime": {
     "end_time": "2018-09-29T00:04:26.904758Z",
     "start_time": "2018-09-29T00:04:25.509141Z"
    },
    "scrolled": true
   },
   "outputs": [],
   "source": [
    "# 1 qubitの量子レジスターを生成する\n",
    "q = QuantumRegister(1, 'q')\n",
    "\n",
    "# q レジスターに作用する量子回路を生成する\n",
    "circH = QuantumCircuit(q)\n",
    "\n",
    "# qubit 0 に H ゲートを追加する。\n",
    "circH.h(q[0])\n",
    "\n",
    "# Matplotlib で描画する\n",
    "circH.draw(output='mpl')"
   ]
  },
  {
   "cell_type": "markdown",
   "metadata": {},
   "source": [
    "<div class=\"alert alert-block alert-info\">\n",
    "\n",
    "$$|0\\rangle =\\left( \\begin{array}{c} 1\\\\ 0 \\end{array}\\right)で、H = \\frac{1}{\\sqrt{2} } \\begin{pmatrix} 1 & 1\\\\  1 & -1 \\\\\\end{pmatrix} であるので、$$\n",
    "$$この回路の出力ベクトルは$$\n",
    "　　\n",
    "$$ H |0\\rangle  = \\frac{1}{\\sqrt{2} }\\begin{pmatrix} 1 & 1\\\\  1 & -1 \\\\\\end{pmatrix} \\left( \\begin{array}{c} 1\\\\ 0 \\end{array} \\right)  = \\frac{1}{\\sqrt{2} } \\left( \\begin{array}{c} 1\\\\ 1 \\end{array} \\right) $$\n",
    "</div>"
   ]
  },
  {
   "cell_type": "code",
   "execution_count": null,
   "metadata": {},
   "outputs": [],
   "source": [
    "# 構成した回路を、状態ベクトル・シミュレータ上でバックエンドで走らせる\n",
    "backend = BasicAer.get_backend('statevector_simulator')\n",
    "\n",
    "# 実行用のプログラムを生成する\n",
    "job = execute(circH, backend)\n",
    "\n",
    "result = job.result()\n",
    "\n",
    "outputstate = result.get_statevector(circH, decimals=3)\n",
    "print(outputstate)"
   ]
  },
  {
   "cell_type": "markdown",
   "metadata": {},
   "source": [
    "<div class=\"alert alert-block alert-info\">\n",
    "\n",
    "この状態ベクトルは、先の計算で得られた\n",
    "$  \\frac{1}{\\sqrt{2} } \\left( \\begin{array}{c} 1\\\\ 1 \\end{array} \\right) $、\n",
    "すなわち、$\\frac{1}{\\sqrt{2} }|0\\rangle + \\frac{1}{\\sqrt{2} } |1\\rangle$ に他ならない。\n",
    "</div>"
   ]
  },
  {
   "cell_type": "markdown",
   "metadata": {},
   "source": [
    "\n",
    "### 量子ゲート $X$, $Y$ からなる回路の出力ベクトルをシミュレートする\n"
   ]
  },
  {
   "cell_type": "code",
   "execution_count": null,
   "metadata": {
    "ExecuteTime": {
     "end_time": "2018-09-29T00:04:26.904758Z",
     "start_time": "2018-09-29T00:04:25.509141Z"
    }
   },
   "outputs": [],
   "source": [
    "# 1 qubitの量子レジスターを生成する\n",
    "q = QuantumRegister(1, 'q')\n",
    "\n",
    "# q レジスターに作用する量子回路を生成する\n",
    "circXY = QuantumCircuit(q)\n",
    "\n",
    "# qubit 0 に  X ゲート、Yゲートを追加する。\n",
    "circXY.x(q[0])\n",
    "circXY.y(q[0])\n",
    "\n",
    "# Matplotlib で描画する\n",
    "circXY.draw(output='mpl')"
   ]
  },
  {
   "cell_type": "markdown",
   "metadata": {},
   "source": [
    "<div class=\"alert alert-block alert-info\">\n",
    "\n",
    "$$|0\\rangle =\\left( \\begin{array}{c} 1\\\\ 0 \\end{array}\\right)で、X =  \\begin{pmatrix} 0 & 1\\\\  1 & 0 \\\\\\end{pmatrix}  ,  Y =  \\begin{pmatrix} 0 & -i\\\\  i & 0 \\\\\\end{pmatrix} であるので$$\n",
    "　　$$この回路の出力ベクトルは$$\n",
    "\n",
    "$$ YX |0\\rangle  = \\begin{pmatrix} 0 & -i\\\\  i & 0 \\\\\\end{pmatrix} \\begin{pmatrix} 0 & 1\\\\  1 & 0  \\\\\\end{pmatrix}  \\left( \\begin{array}{c} 1\\\\ 0 \\end{array} \\right) =  \\begin{pmatrix} -i & 0\\\\  0 & i  \\\\\\end{pmatrix}  \\left( \\begin{array}{c} 1\\\\ 0 \\end{array} \\right) = \\left( \\begin{array}{c} -i\\\\ 0 \\end{array} \\right) $$\n",
    "</div>"
   ]
  },
  {
   "cell_type": "code",
   "execution_count": null,
   "metadata": {},
   "outputs": [],
   "source": [
    "# 構成した回路を、状態ベクトル・シミュレータ上でバックエンドで走らせる\n",
    "backend = BasicAer.get_backend('statevector_simulator')\n",
    "\n",
    "# 実行用のプログラムを生成する\n",
    "job = execute(circXY, backend)\n",
    "\n",
    "result = job.result()\n",
    "\n",
    "outputstate = result.get_statevector(circXY, decimals=3)\n",
    "print(outputstate)"
   ]
  },
  {
   "cell_type": "markdown",
   "metadata": {},
   "source": [
    "<div class=\"alert alert-block alert-info\">\n",
    "\n",
    "この状態ベクトルは、先の計算で得られた\n",
    "$   \\left( \\begin{array}{c} -i\\\\ 0 \\end{array} \\right) $、\n",
    "すなわち、$-i|0\\rangle + 0 |1\\rangle$ に他ならない。\n",
    "</div>"
   ]
  },
  {
   "cell_type": "markdown",
   "metadata": {},
   "source": [
    "\n",
    "### 量子ゲート $H$ 二つからなる回路の出力ベクトルをシミュレートする\n"
   ]
  },
  {
   "cell_type": "code",
   "execution_count": null,
   "metadata": {
    "ExecuteTime": {
     "end_time": "2018-09-29T00:04:26.904758Z",
     "start_time": "2018-09-29T00:04:25.509141Z"
    },
    "scrolled": true
   },
   "outputs": [],
   "source": [
    "# 2 qubitの量子レジスターを生成する\n",
    "q = QuantumRegister(2, 'q')\n",
    "\n",
    "# q レジスターに作用する量子回路を生成する\n",
    "circHH = QuantumCircuit(q)\n",
    "\n",
    "# qubit 0 に H ゲートを追加する。\n",
    "circHH.h(q[0])\n",
    "# qubit 1 に H ゲートを追加する。\n",
    "circHH.h(q[1])\n",
    "\n",
    "# Matplotlib で描画する\n",
    "circHH.draw(output='mpl')"
   ]
  },
  {
   "cell_type": "markdown",
   "metadata": {},
   "source": [
    "<div class=\"alert alert-block alert-info\">\n",
    "$$ これは、二つの回路がparallelに走っているので、テンソル積を使う$$\n",
    "$$ 入力は、|0\\rangle \\otimes |0\\rangle = |00\\rangle、回路を表す行列は、H \\otimes H である$$\n",
    "$$H = \\frac{1}{\\sqrt{2} } \\begin{pmatrix} 1 & 1\\\\  1 & -1 \\\\\\end{pmatrix} なので$$\n",
    "　　\n",
    "$$ H \\otimes H |00\\rangle  = \\frac{1}{\\sqrt{2} }\\begin{pmatrix} 1 & 1\\\\  1 & -1 \\\\\\end{pmatrix}\\otimes  \\frac{1}{\\sqrt{2} }\\begin{pmatrix} 1 & 1\\\\  1 & -1 \\\\\\end{pmatrix} \\left( \\begin{array}{c} 1\\\\ 0 \\\\0 \\\\ 0 \\end{array} \\right)  = \\frac{1}{2}  \\left( \\begin{array}{cccc} 1&1&1& 1\\\\ 1 & -1 &1 & -1\\\\ 1 & 1 & -1 & -1 \\\\ 1& -1& -1 & 1\\end{array} \\right) \\left( \\begin{array}{c} 1\\\\ 0 \\\\0 \\\\ 0 \\end{array} \\right) =  \\frac{1}{2} \\left( \\begin{array}{c} 1\\\\ 1 \\\\1 \\\\ 1 \\end{array} \\right)$$\n",
    "</div>"
   ]
  },
  {
   "cell_type": "code",
   "execution_count": null,
   "metadata": {},
   "outputs": [],
   "source": [
    "# 構成した回路を、状態ベクトル・シミュレータ上でバックエンドで走らせる\n",
    "backend = BasicAer.get_backend('statevector_simulator')\n",
    "\n",
    "# 実行用のプログラムを生成する\n",
    "job = execute(circHH, backend)\n",
    "\n",
    "result = job.result()\n",
    "\n",
    "outputstate = result.get_statevector(circHH, decimals=3)\n",
    "print(outputstate)"
   ]
  },
  {
   "cell_type": "markdown",
   "metadata": {},
   "source": [
    "<div class=\"alert alert-block alert-info\">\n",
    "\n",
    "この状態ベクトルは、先の計算で得られた\n",
    "$   \\frac{1}{2} \\left( \\begin{array}{c} 1\\\\ 1 \\\\1 \\\\ 1 \\end{array} \\right) $、\n",
    "すなわち、$\\frac{1}{2}(|0\\rangle +  |1\\rangle+ |2\\rangle+ |3\\rangle )$ に他ならない。\n",
    "</div>"
   ]
  },
  {
   "cell_type": "markdown",
   "metadata": {},
   "source": [
    "\n",
    "### CNOT |11> 回路の出力ベクトルをシミュレートする\n"
   ]
  },
  {
   "cell_type": "code",
   "execution_count": null,
   "metadata": {
    "ExecuteTime": {
     "end_time": "2018-09-29T00:04:26.904758Z",
     "start_time": "2018-09-29T00:04:25.509141Z"
    },
    "scrolled": true
   },
   "outputs": [],
   "source": [
    "# 2 qubitの量子レジスターを生成する\n",
    "q = QuantumRegister(2, 'q')\n",
    "\n",
    "# q レジスターに作用する量子回路を生成する\n",
    "circCNOT11 = QuantumCircuit(q)\n",
    "\n",
    "# qubit 0 に X ゲートを追加する\n",
    "circCNOT11.x(q[0])\n",
    "# qubit 1 に X ゲートを追加する\n",
    "circCNOT11.x(q[1])\n",
    "# qubit 1にCNOTゲートを追加する\n",
    "circCNOT11.cx(q[0], q[1])\n",
    "\n",
    "# Matplotlib で描画する\n",
    "circCNOT11.draw(output='mpl')"
   ]
  },
  {
   "cell_type": "markdown",
   "metadata": {},
   "source": [
    "<div class=\"alert alert-block alert-info\">\n",
    "\n",
    "$$CNOT|11\\rangle = |10\\rangle $$\n",
    "$$|11\\rangle = |1\\rangle \\otimes |1\\rangle = \\left( \\begin{array}{c} 0 \\\\ 1 \\end{array} \\right) \\otimes \\left( \\begin{array}{c} 0 \\\\ 1 \\end{array} \\right) = \\left( \\begin{array}{c} 0 \\\\ 0 \\\\ 0 \\\\ 1 \\end{array} \\right) $$\n",
    "$$|10\\rangle = |1\\rangle \\otimes |0\\rangle = \\left( \\begin{array}{c} 0 \\\\ 1 \\end{array} \\right) \\otimes \\left( \\begin{array}{c} 1 \\\\ 0 \\end{array} \\right) = \\left( \\begin{array}{c} 0 \\\\ 0 \\\\ 1 \\\\ 0 \\end{array} \\right) $$\n",
    "　　\n",
    "$$ CNOT|11\\rangle  =  \\left( \\begin{array}{cccc} 1&0&0& 0\\\\ 0 & 1 &0 & 0\\\\ 0 & 0 & 0 & 1 \\\\ 0& 0& 1 & 0\\end{array} \\right) \\left( \\begin{array}{c} 0\\\\ 0 \\\\0 \\\\ 1 \\end{array} \\right) =  \\left( \\begin{array}{c} 0\\\\ 0 \\\\1 \\\\ 0 \\end{array} \\right)$$\n",
    "</div>"
   ]
  },
  {
   "cell_type": "code",
   "execution_count": null,
   "metadata": {},
   "outputs": [],
   "source": [
    "# 構成した回路を、状態ベクトル・シミュレータ上でバックエンドで走らせる\n",
    "backend = BasicAer.get_backend('statevector_simulator')\n",
    "\n",
    "# 実行用のプログラムを生成する\n",
    "job = execute(circCNOT11, backend)\n",
    "\n",
    "result = job.result()\n",
    "\n",
    "outputstate = result.get_statevector(circCNOT11, decimals=3)\n",
    "print(outputstate)"
   ]
  },
  {
   "cell_type": "markdown",
   "metadata": {},
   "source": [
    "<div class=\"alert alert-block alert-info\">\n",
    "\n",
    "この状態ベクトルは、先の計算で得られた\n",
    "$  \\left( \\begin{array}{c} 0\\\\ 0 \\\\1 \\\\ 0 \\end{array} \\right) $ と等しいか？\n",
    "\n",
    "実は、この出力は、$ 0|3\\rangle +1|2\\rangle + 0|1\\rangle + 0|0\\rangle $になっている。\n",
    "\n",
    "**複数のqubitからなるシステムの状態を表現する時に、qiskitで使われているテンソル積の順序は、多くの量子情報理論のテキストとは違っている!** ほとんどの物理学のテキストでは（例えば、 Nielsen and Chuangの \"Quantum Computation a ndInformation\"がそうなのだが）、$n$個の qubitがあって、それが$Q_{j}$のように$j$ でラベル付けられた時、$n$-qubit 状態の基底ベクトルは、$Q_{0}\\otimes Q_{1} \\otimes \\cdots \\otimes Q_{n}$と表現される。**これがqiskitでは違っている！** qiskitでは、$n^{\\mathrm{th}}$ qubit は、テンソル積の左から数えられる。だから、基底ベクトルは、 $Q_n\\otimes \\cdots  \\otimes  Q_1\\otimes Q_0$　のようにラベル付けられる。\n",
    "\n",
    "例えば、qubit 0の状態が 0で, qubit 1が状態  0, qubit 2 が状態　1の時、 qiskit はこの状態を　$|100\\rangle$と表す。 もちろん、ほとんどのテキストでは、この状態は、$|001\\rangle$と表される。\n",
    "\n",
    "このラベリングの違いは、行列で表現される複数qubitの操作に影響を与える。例えば、qiskitでは、qubit 0がコントロールで、qubit 1がターゲットのcontrolled-X ($C_{X}$は、次のように表現される。\n",
    "\n",
    "$$C_X = \\begin{pmatrix} 1 & 0 & 0 & 0 \\\\  0 & 0 & 0 & 1 \\\\ 0 & 0 & 1 & 0 \\\\ 0 & 1 & 0 & 0 \\\\\\end{pmatrix}\\left( \\begin{array}{c} 0\\\\ 0 \\\\0 \\\\ 1 \\end{array} \\right) =  \\left( \\begin{array}{c} 0\\\\ 1 \\\\0 \\\\ 0 \\end{array} \\right).$$\n",
    "\n",
    "</div>"
   ]
  },
  {
   "cell_type": "markdown",
   "metadata": {},
   "source": [
    "\n",
    "\n",
    "## 回路全体を一つのユニタリ行列で表す <a id='d3'></a>\n"
   ]
  },
  {
   "cell_type": "markdown",
   "metadata": {},
   "source": [
    "Qiskit Aer には、その回路の全ての要素がユニタリ〜演算子である場合に働く　unitary_simulatorが含まれている。これは、この量子回路中のゲートが表現する $2^n \\times 2^n$ の行列をバックエンドで計算する。"
   ]
  },
  {
   "cell_type": "markdown",
   "metadata": {},
   "source": [
    "\n",
    "### 量子ゲート $H$ 一つからなる回路をユニタリ行列で表す\n"
   ]
  },
  {
   "cell_type": "code",
   "execution_count": null,
   "metadata": {
    "scrolled": true
   },
   "outputs": [],
   "source": [
    "# Run the quantum circuit on a unitary simulator backend\n",
    "backend = BasicAer.get_backend('unitary_simulator')\n",
    "job = execute(circH, backend)\n",
    "result = job.result()\n",
    "\n",
    "# Show the results\n",
    "print(result.get_unitary(circH, decimals=3))"
   ]
  },
  {
   "cell_type": "markdown",
   "metadata": {},
   "source": [
    "<div class=\"alert alert-block alert-info\">\n",
    "\n",
    "$これは、$$H = \\frac{1}{\\sqrt{2} } \\begin{pmatrix} 1 & 1\\\\  1 & -1 \\\\\\end{pmatrix} に等しい$\n",
    "</div>"
   ]
  },
  {
   "cell_type": "markdown",
   "metadata": {},
   "source": [
    "\n",
    "### 量子ゲート $X$, $Y$ からなる回路を一つのユニタリ行列で表す\n"
   ]
  },
  {
   "cell_type": "code",
   "execution_count": null,
   "metadata": {
    "scrolled": true
   },
   "outputs": [],
   "source": [
    "# Run the quantum circuit on a unitary simulator backend\n",
    "backend = BasicAer.get_backend('unitary_simulator')\n",
    "job = execute(circXY, backend)\n",
    "result = job.result()\n",
    "\n",
    "# Show the results\n",
    "print(result.get_unitary(circXY, decimals=3))"
   ]
  },
  {
   "cell_type": "markdown",
   "metadata": {},
   "source": [
    "<div class=\"alert alert-block alert-info\">\n",
    "\n",
    "$これは、YX = \\begin{pmatrix} -i & 0\\\\  0 & i  \\\\\\end{pmatrix} に等しい$\n",
    "</div>"
   ]
  },
  {
   "cell_type": "markdown",
   "metadata": {},
   "source": [
    "\n",
    "### 量子ゲート $H$ 二つからなる回路を一つのユニタリ行列で表す\n"
   ]
  },
  {
   "cell_type": "code",
   "execution_count": null,
   "metadata": {},
   "outputs": [],
   "source": [
    "# Run the quantum circuit on a unitary simulator backend\n",
    "backend = BasicAer.get_backend('unitary_simulator')\n",
    "job = execute(circHH, backend)\n",
    "result = job.result()\n",
    "\n",
    "# Show the results\n",
    "print(result.get_unitary(circHH, decimals=3))"
   ]
  },
  {
   "cell_type": "markdown",
   "metadata": {},
   "source": [
    "<div class=\"alert alert-block alert-info\">\n",
    "\n",
    "$これは、\\frac{1}{2}  \\left( \\begin{array}{cccc} 1&1&1& 1\\\\ 1 & -1 &1 & -1\\\\ 1 & 1 & -1 & -1 \\\\ 1& -1& -1 & 1\\end{array} \\right)に等しい$"
   ]
  },
  {
   "cell_type": "markdown",
   "metadata": {},
   "source": [
    "\n",
    "###  CNOT 回路を一つのユニタリ行列で表す\n"
   ]
  },
  {
   "cell_type": "code",
   "execution_count": null,
   "metadata": {
    "ExecuteTime": {
     "end_time": "2018-09-29T00:04:26.904758Z",
     "start_time": "2018-09-29T00:04:25.509141Z"
    }
   },
   "outputs": [],
   "source": [
    "# 2 qubitの量子レジスターを生成する\n",
    "q = QuantumRegister(2, 'q')\n",
    "\n",
    "# q レジスターに作用する量子回路を生成する\n",
    "circCNOT = QuantumCircuit(q)\n",
    "\n",
    "# qubit 1にCNOTゲートを追加する\n",
    "circCNOT.cx(q[0], q[1])\n",
    "\n",
    "# Matplotlib で描画する\n",
    "circCNOT.draw(output='mpl')"
   ]
  },
  {
   "cell_type": "code",
   "execution_count": null,
   "metadata": {},
   "outputs": [],
   "source": [
    "# Run the quantum circuit on a unitary simulator backend\n",
    "backend = BasicAer.get_backend('unitary_simulator')\n",
    "job = execute(circCNOT, backend)\n",
    "result = job.result()\n",
    "\n",
    "# Show the results\n",
    "print(result.get_unitary(circCNOT, decimals=3))"
   ]
  },
  {
   "cell_type": "markdown",
   "metadata": {},
   "source": [
    "<div class=\"alert alert-block alert-info\">\n",
    "\n",
    "$これは、C_X=\\left( \\begin{array}{cccc} 1&0&0& 0\\\\ 0 & 0 &0 & 1\\\\ 0 & 0 & 1 & 0 \\\\ 0& 1& 0 & 0\\end{array} \\right)に等しい$\n",
    "</div>"
   ]
  },
  {
   "cell_type": "markdown",
   "metadata": {},
   "source": [
    "\n",
    "### 　　　　　　　　[前の章へ](./2_circuit.ipynb)　[全体目次](./Contents.ipynb)　 [次の章へ](./4_measurement.ipynb)"
   ]
  },
  {
   "cell_type": "code",
   "execution_count": null,
   "metadata": {},
   "outputs": [],
   "source": []
  }
 ],
 "metadata": {
  "anaconda-cloud": {},
  "kernelspec": {
   "display_name": "Python 3",
   "language": "python",
   "name": "python3"
  },
  "language_info": {
   "codemirror_mode": {
    "name": "ipython",
    "version": 3
   },
   "file_extension": ".py",
   "mimetype": "text/x-python",
   "name": "python",
   "nbconvert_exporter": "python",
   "pygments_lexer": "ipython3",
   "version": "3.6.7"
  }
 },
 "nbformat": 4,
 "nbformat_minor": 4
}
