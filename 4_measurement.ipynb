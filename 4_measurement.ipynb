{
 "cells": [
  {
   "cell_type": "markdown",
   "metadata": {},
   "source": [
    "<img src=\"./images/Logo1.png\" alt=\"Note: In order for images to show up in this jupyter notebook you need to select File => Trusted Notebook\" width=\"700 px\" align=\"center\">"
   ]
  },
  {
   "cell_type": "markdown",
   "metadata": {},
   "source": [
    "# 第四章　構成した回路を観測する <a id='a1'></a>\n",
    "\n",
    "**本章の内容**　　　　　[全体目次](./Contents.ipynb)\n",
    "- [第四章　構成した回路を観測する](#a1)\n",
    "  - [観測の原理](#a2)\n",
    "  - [回路の出力を観測する](#a3)"
   ]
  },
  {
   "cell_type": "markdown",
   "metadata": {},
   "source": [
    "## 観測の原理 <a id='a2'></a>\n",
    "### qubitを観測すると、重ね合わせの状態は失われて、古典bit 0か1が観測される\n",
    "一般に、n個の基底からなる量子の状態を観測すると、重ね合わせの状態は失われて、その基底の一つが観測される。\n",
    "\n",
    "### qubit $|\\psi\\rangle=\\alpha |0\\rangle+\\beta|1\\rangle$を観測した時、$|0\\rangle$ (古典bit 0に対応)が観測される確率は$|\\alpha|^2$、$|1\\rangle$ (古典bit 1に対応)が観測される確率は$|\\beta|^2$に等しい\n",
    "一般に、先の量子の状態 $|\\psi\\rangle$を観測した時、重ね合わせの状態が失われて、基底$|i\\rangle$が観測される確率は、$|\\alpha_i|^2$に等しい。\n",
    "$|\\alpha_0|^2+|\\alpha_1|^2+|\\alpha|_2|^2+\\cdots + |\\alpha_{n-1}|^2=1$という条件は、観測によって、いずれかの基底が観測されるという条件と等しい。"
   ]
  },
  {
   "cell_type": "markdown",
   "metadata": {},
   "source": [
    "**コードのインポート**"
   ]
  },
  {
   "cell_type": "code",
   "execution_count": null,
   "metadata": {},
   "outputs": [],
   "source": [
    "%matplotlib inline\n",
    "%config InlineBackend.figure_formats = {'png', 'retina'}\n",
    "\n",
    "import numpy as np\n",
    "from qiskit import QuantumCircuit, ClassicalRegister, QuantumRegister\n",
    "from qiskit import execute\n",
    "\n",
    "# Import Aer\n",
    "from qiskit import BasicAer"
   ]
  },
  {
   "cell_type": "markdown",
   "metadata": {},
   "source": [
    "## 回路の出力を観測する <a id='a3'></a>"
   ]
  },
  {
   "cell_type": "markdown",
   "metadata": {},
   "source": [
    "\n",
    "### 量子ゲート $H$ 一つからなる回路の出力を観測する　$H|0\\rangle$\n"
   ]
  },
  {
   "cell_type": "code",
   "execution_count": null,
   "metadata": {
    "ExecuteTime": {
     "end_time": "2018-09-29T00:04:26.904758Z",
     "start_time": "2018-09-29T00:04:25.509141Z"
    }
   },
   "outputs": [],
   "source": [
    "# 1 qubitの量子レジスターを生成する\n",
    "q = QuantumRegister(1, 'q')\n",
    "\n",
    "# q レジスターに作用する量子回路を生成する\n",
    "circH = QuantumCircuit(q)\n",
    "\n",
    "# qubit 0 に H ゲートを追加する。\n",
    "circH.h(q[0])\n",
    "\n",
    "# 1bitの古典レジスターを生成する\n",
    "c = ClassicalRegister(1, 'c')\n",
    "\n",
    "# 計測を含む量子回路を生成する\n",
    "meas = QuantumCircuit(q, c)\n",
    "meas.barrier(q)\n",
    "\n",
    "# qubit 0 の計測結果を古典ビットにうつす\n",
    "meas.measure(q,c)\n",
    "\n",
    "# Qiskit の回路オブジェクトは、'+' 演算子で回路の合成を\n",
    "# サポートしている\n",
    "qc = circH+meas\n",
    "\n",
    "# 回路を描画する\n",
    "qc.draw(output='mpl')"
   ]
  },
  {
   "cell_type": "markdown",
   "metadata": {},
   "source": [
    "<div class=\"alert alert-block alert-info\">\n",
    "　　\n",
    "$$ H |0\\rangle  = \\frac{1}{\\sqrt{2} }\\begin{pmatrix} 1 & 1\\\\  1 & -1 \\\\\\end{pmatrix} \\left( \\begin{array}{c} 1\\\\ 0 \\end{array} \\right)  = \\frac{1}{\\sqrt{2} } \\left( \\begin{array}{c} 1\\\\ 1 \\end{array} \\right) = \\frac{1}{\\sqrt{2} } |0\\rangle + \\frac{1}{\\sqrt{2} }|1\\rangle $$\n",
    "</div>"
   ]
  },
  {
   "cell_type": "code",
   "execution_count": null,
   "metadata": {
    "scrolled": true
   },
   "outputs": [],
   "source": [
    "# Aerのqasm_simulatorを利用する\n",
    "backend_sim = BasicAer.get_backend('qasm_simulator')\n",
    "\n",
    "# 回路を qsam_simulator上で走らせる\n",
    "# 実行の繰り返しの回数を shotsに指定する\n",
    "# デフォールト値は、1024　である\n",
    "job_sim = execute(qc, backend_sim, shots=1024)\n",
    "\n",
    "# jobから結果を取り出す\n",
    "result_sim = job_sim.result()\n",
    "\n",
    "counts = result_sim.get_counts(qc)\n",
    "print(counts)"
   ]
  },
  {
   "cell_type": "markdown",
   "metadata": {},
   "source": [
    "<div class=\"alert alert-block alert-info\">　\n",
    "先の計算結果から　$ H |0\\rangle  = \\frac{1}{\\sqrt{2} } |0\\rangle + \\frac{1}{\\sqrt{2} }|1\\rangle $である。\n",
    "これから、 0を観測する確率は、$( \\frac{1}{\\sqrt{2} })^2 = \\frac {1} {2}$、1を観測する確率は、$( \\frac{1}{\\sqrt{2} })^2 = \\frac {1} {2}$ に等しいことがわかる。シミューレーションの結果は、それを裏付けている。\n"
   ]
  },
  {
   "cell_type": "code",
   "execution_count": null,
   "metadata": {
    "scrolled": true
   },
   "outputs": [],
   "source": [
    "from qiskit.tools.visualization import plot_histogram\n",
    "plot_histogram(counts)"
   ]
  },
  {
   "cell_type": "markdown",
   "metadata": {},
   "source": [
    "\n",
    "### 量子ゲート $H$ 一つからなる回路の出力を観測する $H|1\\rangle$\n"
   ]
  },
  {
   "cell_type": "code",
   "execution_count": null,
   "metadata": {
    "ExecuteTime": {
     "end_time": "2018-09-29T00:04:26.904758Z",
     "start_time": "2018-09-29T00:04:25.509141Z"
    }
   },
   "outputs": [],
   "source": [
    "# 1 qubitの量子レジスターを生成する\n",
    "q = QuantumRegister(1, 'q')\n",
    "\n",
    "# q レジスターに作用する量子回路を生成する\n",
    "circH = QuantumCircuit(q)\n",
    "\n",
    "# qubit 0 に X ゲートを追加する。\n",
    "circH.x(q[0])\n",
    "\n",
    "# qubit 0 に H ゲートを追加する。\n",
    "circH.h(q[0])\n",
    "\n",
    "# 1bitの古典レジスターを生成する\n",
    "c = ClassicalRegister(1, 'c')\n",
    "\n",
    "# 計測を含む量子回路を生成する\n",
    "meas = QuantumCircuit(q, c)\n",
    "meas.barrier(q)\n",
    "\n",
    "# qubit 0 の計測結果を古典ビットにうつす\n",
    "meas.measure(q,c)\n",
    "\n",
    "# Qiskit の回路オブジェクトは、'+' 演算子で回路の合成を\n",
    "# サポートしている\n",
    "qc = circH+meas\n",
    "\n",
    "# 回路を描画する\n",
    "qc.draw(output='mpl')"
   ]
  },
  {
   "cell_type": "markdown",
   "metadata": {},
   "source": [
    "<div class=\"alert alert-block alert-info\">\n",
    "　　\n",
    "$$ H |1\\rangle  = \\frac{1}{\\sqrt{2} }\\begin{pmatrix} 1 & 1\\\\  1 & -1 \\\\\\end{pmatrix} \\left( \\begin{array}{c} 0\\\\ 1 \\end{array} \\right)  = \\frac{1}{\\sqrt{2} } \\left( \\begin{array}{c} 1\\\\ -1 \\end{array} \\right) = \\frac{1}{\\sqrt{2} } |0\\rangle - \\frac{1}{\\sqrt{2} }|1\\rangle $$\n",
    "</div>"
   ]
  },
  {
   "cell_type": "code",
   "execution_count": null,
   "metadata": {
    "scrolled": true
   },
   "outputs": [],
   "source": [
    "# Aerのqasm_simulatorを利用する\n",
    "backend_sim = BasicAer.get_backend('qasm_simulator')\n",
    "\n",
    "# 回路を qsam_simulator上で走らせる\n",
    "# 実行の繰り返しの回数を shotsに指定する\n",
    "# デフォールト値は、1024　である\n",
    "job_sim = execute(qc, backend_sim, shots=1024)\n",
    "\n",
    "# jobから結果を取り出す\n",
    "result_sim = job_sim.result()\n",
    "\n",
    "counts = result_sim.get_counts(qc)\n",
    "print(counts)"
   ]
  },
  {
   "cell_type": "markdown",
   "metadata": {},
   "source": [
    "<div class=\"alert alert-block alert-info\">　\n",
    "先の計算結果から　$ H |1\\rangle  = \\frac{1}{\\sqrt{2} } |0\\rangle - \\frac{1}{\\sqrt{2} }|1\\rangle $である。\n",
    "これから、 0を観測する確率は、$( \\frac{1}{\\sqrt{2} })^2 = \\frac {1} {2}$、1を観測する確率は、$( -\\frac{1}{\\sqrt{2} })^2 = \\frac {1} {2}$ に等しいことがわかる。シミューレーションの結果は、それを裏付けている。\n",
    " </div>"
   ]
  },
  {
   "cell_type": "code",
   "execution_count": null,
   "metadata": {},
   "outputs": [],
   "source": [
    "from qiskit.tools.visualization import plot_histogram\n",
    "plot_histogram(counts)"
   ]
  },
  {
   "cell_type": "markdown",
   "metadata": {},
   "source": [
    " <div class=\"alert alert-block alert-info\">　\n",
    "  \n",
    "このことは、$H|0\\rangleとH|1\\rangle$の出力は、$|1\\rangle$の成分の符号が反対であるにも関わらず、観測によっては区別がつかないことを意味している。 \n",
    "\n",
    "<h3>もっと一般に、状態 $\\alpha|0\\rangle+\\beta|1\\rangle$と状態 $\\alpha|0\\rangle+e^{i\\theta}\\beta|1\\rangle$は、$|e^{i\\theta}\\beta|^2=|e^{i\\theta}|^2|\\beta|^2=|\\beta|^2$であるので、観測によっては区別がつかない。</h3>\n",
    "</div>"
   ]
  },
  {
   "cell_type": "markdown",
   "metadata": {},
   "source": [
    "\n",
    "### 量子ゲート $R_y (y=\\pi/4)$ 一つからなる回路の出力を観測する\n"
   ]
  },
  {
   "cell_type": "markdown",
   "metadata": {},
   "source": [
    "<div class=\"alert alert-block alert-info\">\n",
    "$R_y(\\theta)$は、次の行列で表されるゲートである。\n",
    "\n",
    "$$\\begin{split}R_y(\\theta) =\n",
    "\\begin{pmatrix}\n",
    "\\cos(\\theta/2) & - \\sin(\\theta/2)\\\\\n",
    "\\sin(\\theta/2) & \\cos(\\theta/2).\n",
    "\\end{pmatrix} \\end{split}$$\n",
    "</div>"
   ]
  },
  {
   "cell_type": "code",
   "execution_count": null,
   "metadata": {
    "ExecuteTime": {
     "end_time": "2018-09-29T00:04:26.904758Z",
     "start_time": "2018-09-29T00:04:25.509141Z"
    },
    "scrolled": true
   },
   "outputs": [],
   "source": [
    "# 1 qubitの量子レジスターを生成する\n",
    "q = QuantumRegister(1, 'q')\n",
    "\n",
    "# q レジスターに作用する量子回路を生成する\n",
    "circ = QuantumCircuit(q)\n",
    "\n",
    "# qubit 0 に Ry (y=π/4)ゲートを追加する。\n",
    "circ.ry(np.pi/4, q[0])\n",
    "\n",
    "# 1bitの古典レジスターを生成する\n",
    "c = ClassicalRegister(1, 'c')\n",
    "\n",
    "# 計測を含む量子回路を生成する\n",
    "meas = QuantumCircuit(q, c)\n",
    "meas.barrier(q)\n",
    "\n",
    "# qubit 0の計測結果を古典ビットにうつす\n",
    "meas.measure(q,c)\n",
    "\n",
    "# Qiskit の回路オブジェクトは、'+' 演算子で回路の合成を\n",
    "# サポートしている\n",
    "qc = circ+meas\n",
    "\n",
    "# 回路を描画する\n",
    "qc.draw(output='mpl')"
   ]
  },
  {
   "cell_type": "markdown",
   "metadata": {},
   "source": [
    "<div class=\"alert alert-block alert-info\">\n",
    "    \n",
    "$$\\begin{split}R_y(\\pi/4) |0\\rangle =\n",
    "\\begin{pmatrix}\n",
    "\\cos(\\pi/8) & - \\sin(\\pi/8)\\\\\n",
    "\\sin(\\pi/8) & \\cos(\\pi/8).\n",
    "\\end{pmatrix} \\end{split}\\left( \\begin{array}{c} 1\\\\ 0 \\end{array} \\right) =\\left( \\begin{array}{c} \\cos(\\pi/8)\\\\ \\sin(\\pi/8) \\end{array} \\right) = \\cos(\\pi/8)|0\\rangle + \\sin(\\pi/8)|1\\rangle$$\n",
    "\n",
    "よって、\n",
    "\n",
    "０が観測される確率は$|cos(\\pi/8)|^2 \\approx (0.92388)^2= 0.8536 $、\n",
    "\n",
    "1が観測される確率は $| sin(\\pi/8)|^2 \\approx (0.38268)^2 = 0.1464 $となる\n",
    "</div>"
   ]
  },
  {
   "cell_type": "code",
   "execution_count": null,
   "metadata": {},
   "outputs": [],
   "source": [
    "# Aerのqasm_simulatorを利用する\n",
    "backend_sim = BasicAer.get_backend('qasm_simulator')\n",
    "\n",
    "# 回路を qsam_simulator上で走らせる\n",
    "# 実行の繰り返しの回数を shotsに指定する\n",
    "# デフォールト値は、1024　である\n",
    "job_sim = execute(qc, backend_sim, shots=1024)\n",
    "\n",
    "# jobから結果を取り出す\n",
    "result_sim = job_sim.result()\n",
    "\n",
    "counts = result_sim.get_counts(qc)\n",
    "print(counts)"
   ]
  },
  {
   "cell_type": "markdown",
   "metadata": {},
   "source": [
    "<div class=\"alert alert-block alert-info\">\n",
    "この値は、先の計算と、ほぼ一致する。\n",
    "\n",
    "\n",
    "０が観測される確率は$|cos(\\pi/8)|^2 = (0.92388)^2= 0.8536 $、\n",
    "\n",
    "1が観測される確率は $| sin(\\pi/8)|^2 = (0.38268)^2 = 0.1464 $となる\n",
    "</div>"
   ]
  },
  {
   "cell_type": "code",
   "execution_count": null,
   "metadata": {
    "scrolled": true
   },
   "outputs": [],
   "source": [
    "from qiskit.tools.visualization import plot_histogram\n",
    "plot_histogram(counts)"
   ]
  },
  {
   "cell_type": "markdown",
   "metadata": {},
   "source": [
    "　\n",
    "### 　　　　　　　　[前の章へ](./3_simulation.ipynb)　[全体目次](./Contents.ipynb)　 [次の章へ](./5_ibm_q.ipynb)"
   ]
  },
  {
   "cell_type": "code",
   "execution_count": null,
   "metadata": {},
   "outputs": [],
   "source": []
  }
 ],
 "metadata": {
  "anaconda-cloud": {},
  "kernelspec": {
   "display_name": "Python 3",
   "language": "python",
   "name": "python3"
  },
  "language_info": {
   "codemirror_mode": {
    "name": "ipython",
    "version": 3
   },
   "file_extension": ".py",
   "mimetype": "text/x-python",
   "name": "python",
   "nbconvert_exporter": "python",
   "pygments_lexer": "ipython3",
   "version": "3.6.7"
  }
 },
 "nbformat": 4,
 "nbformat_minor": 4
}
